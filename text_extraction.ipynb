{
 "cells": [
  {
   "cell_type": "code",
   "execution_count": 1,
   "id": "cdb48453",
   "metadata": {},
   "outputs": [],
   "source": [
    "import pdfplumber \n",
    "import re \n",
    "import json \n",
    "import nltk\n",
    "from nltk.tokenize import sent_tokenize"
   ]
  },
  {
   "cell_type": "code",
   "execution_count": 8,
   "id": "976a1a6a",
   "metadata": {},
   "outputs": [
    {
     "name": "stderr",
     "output_type": "stream",
     "text": [
      "[nltk_data] Downloading package punkt to\n",
      "[nltk_data]     C:\\Users\\ANUSANTH\\AppData\\Roaming\\nltk_data...\n",
      "[nltk_data]   Unzipping tokenizers\\punkt.zip.\n",
      "[nltk_data] Downloading package punkt_tab to\n",
      "[nltk_data]     C:\\Users\\ANUSANTH\\AppData\\Roaming\\nltk_data...\n",
      "[nltk_data]   Unzipping tokenizers\\punkt_tab.zip.\n"
     ]
    },
    {
     "data": {
      "text/plain": [
       "True"
      ]
     },
     "execution_count": 8,
     "metadata": {},
     "output_type": "execute_result"
    }
   ],
   "source": [
    "nltk.download('punkt')\n",
    "nltk.download('punkt_tab')"
   ]
  },
  {
   "cell_type": "code",
   "execution_count": 6,
   "id": "0ea76733",
   "metadata": {},
   "outputs": [],
   "source": [
    "#text extraction\n",
    "def read_pdf(file_path):\n",
    "    text = []\n",
    "    with pdfplumber.open(file_path) as pdf:\n",
    "        for page in pdf.pages:\n",
    "            page_text = page.extract_text() or \"\"\n",
    "            text.append(page_text)\n",
    "    return \"\\n\".join(text)\n",
    "\n",
    "#preprocess text\n",
    "def preprocess_text(text):\n",
    "    text = re.sub(r\"\\s+\", \" \",text)\n",
    "    text = text.strip()\n",
    "    \n",
    "    clauses = sent_tokenize(text)\n",
    "    return clauses\n",
    "        "
   ]
  },
  {
   "cell_type": "code",
   "execution_count": 10,
   "id": "52778d1a",
   "metadata": {},
   "outputs": [],
   "source": [
    "#rule based scoring\n",
    "RISK_KEYWORDS = {\n",
    "    \"liability\": 80,\n",
    "    \"compensation\": 75,\n",
    "    \"forfeiture\": 70,\n",
    "    \"non-refundable\": 70,\n",
    "    \"penalty\": 65,\n",
    "    \"eviction\": 80,\n",
    "    \"termination\": 75,\n",
    "    \"disciplinary\": 60,\n",
    "    \"not liable\": 80,\n",
    "    \"responsibility\": 50\n",
    "}\n",
    "\n",
    "\n",
    "def get_risk_score(input):\n",
    "    clauses = input.lower()\n",
    "    score = 0\n",
    "    for keyword,weight in RISK_KEYWORDS.items():\n",
    "        if keyword in clauses:\n",
    "            score = max(score,weight)\n",
    "    return score\n",
    "\n",
    "def analyze_clauses(clauses):\n",
    "    results = []\n",
    "    for clause in clauses:\n",
    "        score = get_risk_score(clause)\n",
    "        results.append({\n",
    "            \"Clause\": clause,\n",
    "            \"risky\": score>0,\n",
    "            \"score\": score\n",
    "        })\n",
    "    return results"
   ]
  },
  {
   "cell_type": "code",
   "execution_count": 4,
   "id": "fcb67002",
   "metadata": {},
   "outputs": [],
   "source": [
    "# json export\n",
    "def export_json(results,output_file=\"analysis.json\"):\n",
    "    with open(output_file,\"w\",encoding=\"utf-8\") as f:\n",
    "        json.dump(results,f,indent=4,ensure_ascii=False)"
   ]
  },
  {
   "cell_type": "code",
   "execution_count": 11,
   "id": "054790eb",
   "metadata": {},
   "outputs": [
    {
     "name": "stdout",
     "output_type": "stream",
     "text": [
      "Analysis complete. Saved to analysis.json\n"
     ]
    }
   ],
   "source": [
    "# main fusntion\n",
    "\n",
    "pdf_file = r\"samples\\Hostel_Damage_Policy.pdf\"  \n",
    "raw_text = read_pdf(pdf_file)\n",
    "clauses = preprocess_text(raw_text)\n",
    "analysis = analyze_clauses(clauses)\n",
    "export_json(analysis)\n",
    "\n",
    "print(f\"Analysis complete. Saved to analysis.json\")"
   ]
  },
  {
   "cell_type": "code",
   "execution_count": null,
   "id": "8d227000",
   "metadata": {},
   "outputs": [],
   "source": []
  }
 ],
 "metadata": {
  "kernelspec": {
   "display_name": "Python 3",
   "language": "python",
   "name": "python3"
  },
  "language_info": {
   "codemirror_mode": {
    "name": "ipython",
    "version": 3
   },
   "file_extension": ".py",
   "mimetype": "text/x-python",
   "name": "python",
   "nbconvert_exporter": "python",
   "pygments_lexer": "ipython3",
   "version": "3.10.0"
  }
 },
 "nbformat": 4,
 "nbformat_minor": 5
}
